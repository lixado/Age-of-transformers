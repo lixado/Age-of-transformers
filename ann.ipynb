{
 "cells": [
  {
   "cell_type": "code",
   "execution_count": 338,
   "metadata": {},
   "outputs": [],
   "source": [
    "import random\n",
    "import matplotlib.pyplot as plt\n",
    "import sys\n",
    "random.seed(14)"
   ]
  },
  {
   "cell_type": "code",
   "execution_count": 339,
   "metadata": {},
   "outputs": [],
   "source": [
    "# Data\n",
    "zero1 = [[1, 1], [1, 1]]\n",
    "zero2 = [[0, 0], [0, 0]]\n",
    "\n",
    "one1 = [[0, 1], [0, 1]]\n",
    "one2 = [[1, 0], [1, 0]]\n",
    "one3 = [[1, 1], [0, 0]]\n",
    "one4 = [[0, 0], [1, 1]]\n",
    "\n",
    "ones = [one1, one2, one3, one4]\n",
    "zeros = [zero1, zero2]"
   ]
  },
  {
   "cell_type": "code",
   "execution_count": 340,
   "metadata": {},
   "outputs": [
    {
     "data": {
      "image/png": "[encoded data removed]",
      "text/plain": [
       "<Figure size 640x480 with 4 Axes>"
      ]
     },
     "metadata": {},
     "output_type": "display_data"
    },
    {
     "data": {
      "image/png": "[encoded data removed]",
      "text/plain": [
       "<Figure size 640x480 with 2 Axes>"
      ]
     },
     "metadata": {},
     "output_type": "display_data"
    }
   ],
   "source": [
    "# Plot data\n",
    "f, ax = plt.subplots(1,len(ones))\n",
    "for i, one in enumerate(ones):\n",
    "    ax[i].set_title(\"one\")\n",
    "    ax[i].imshow(one, cmap='Set1',  interpolation='nearest')\n",
    "\n",
    "\n",
    "f, ax = plt.subplots(1,len(zeros))\n",
    "for i, zero in enumerate(zeros):\n",
    "    ax[i].set_title(\"zero\")\n",
    "    ax[i].imshow(zero, cmap='Set1',  interpolation='nearest')"
   ]
  },
  {
   "cell_type": "code",
   "execution_count": 341,
   "metadata": {},
   "outputs": [],
   "source": [
    "# Reformat data for ANN \n",
    "\n",
    "def flatten(l):\n",
    "    \"\"\"\"\n",
    "    makes a 2d list into a 1d list\n",
    "    for example:\n",
    "    [[1, 2], [3, 4]] -> [1, 2, 3, 4]\n",
    "    \"\"\"\n",
    "    return [item for sublist in l for item in sublist]\n",
    "\n",
    "ones = [flatten(one) for one in ones] # make it easier for ANN\n",
    "zeros = [flatten(zero) for zero in zeros]"
   ]
  },
  {
   "cell_type": "code",
   "execution_count": 342,
   "metadata": {},
   "outputs": [],
   "source": [
    "# What a neuron is\n",
    "class Neuron():\n",
    "    def __init__(self,weights_count):\n",
    "        self.weights = [random.uniform(-1,1) for _ in range(weights_count)]\n",
    "        self.bias = 0\n",
    "\n",
    "    def __call__(self, inputs):\n",
    "        res = self.bias\n",
    "\n",
    "        for index in range(len(self.weights)):\n",
    "            res += self.weights[index] * inputs[index]\n",
    "        return res"
   ]
  },
  {
   "cell_type": "code",
   "execution_count": 343,
   "metadata": {},
   "outputs": [
    {
     "name": "stdout",
     "output_type": "stream",
     "text": [
      "The ANN looks like this:\n",
      "\n",
      "I   I   I   I   \n",
      "  O   O   O   \n",
      "      O   "
     ]
    }
   ],
   "source": [
    "# ANN with 4 inputs,  3 hidden neurons and 1 output neuron\n",
    "\n",
    "input_size = 4\n",
    "hidden_size = 3\n",
    "output_size = 1\n",
    "\n",
    "hidden_layer = [Neuron(input_size) for _ in range(hidden_size)] # 3 neurons with 4 weights each\n",
    "\n",
    "output_layer = [Neuron(hidden_size) for _ in range(output_size)] # 1 neurons with 3 weights\n",
    "\n",
    "# Plot layers\n",
    "print(\"The ANN looks like this:\\n\")\n",
    "for _ in range(input_size):\n",
    "    print(\"I   \", end=\"\")\n",
    "print(\"\")\n",
    "print(\" \"*2, end=\"\")\n",
    "for _ in range(hidden_size):\n",
    "    print(\"O   \", end=\"\")\n",
    "print(\"\")\n",
    "print(\" \"*6, end=\"\")\n",
    "for _ in range(output_size):\n",
    "    print(\"O   \", end=\"\")"
   ]
  },
  {
   "cell_type": "code",
   "execution_count": 344,
   "metadata": {},
   "outputs": [
    {
     "name": "stdout",
     "output_type": "stream",
     "text": [
      "Input: [0, 1, 0, 1]\n",
      "Hidden layer pass: [1.2858758271059467, -0.17154893665377013, 0.9234994319341356]\n",
      "Output layer pass: [-0.14493286624670665]\n",
      "The ANN predicts this is a: 0, and the truth is this is a 0.\n",
      "We need to train the ANN with backpropragation.\n"
     ]
    }
   ],
   "source": [
    "# Lets test against a one\n",
    "input = ones[0]\n",
    "print(f\"Input: {input}\")\n",
    "\n",
    "hidden_layer_pass = [neuron(input) for neuron in hidden_layer] # this will make the __call__ for each neuron calculating the results\n",
    "print(f\"Hidden layer pass: {hidden_layer_pass}\")\n",
    "\n",
    "output_layer_pass = [neuron(hidden_layer_pass) for neuron in output_layer]\n",
    "print(f\"Output layer pass: {output_layer_pass}\")\n",
    "prediction = 0 if output_layer_pass[0] < 0.5 else 1 # Simplify prediction\n",
    "\n",
    "# We decide the first neuron = 0 and the second = 1\n",
    "print(f\"The ANN predicts this is a: {prediction}, and the truth is this is a 1.\")\n",
    "print(f\"We need to train the ANN with backpropragation.\")"
   ]
  },
  {
   "cell_type": "code",
   "execution_count": 350,
   "metadata": {},
   "outputs": [
    {
     "name": "stdout",
     "output_type": "stream",
     "text": [
      "We predicted -0.14493286624670665 and the actual value is 1. The loss is: 1.310871268211899\n"
     ]
    }
   ],
   "source": [
    "# Lets find out how wrong we were using Mean Squared Error (MSE)\n",
    "def loss(predicted, actual):\n",
    "    difference = predicted - actual\n",
    "    squared_difference = difference ** 2 # square to get a positive diference\n",
    "    return squared_difference\n",
    "\n",
    "print(f\"We predicted {output_layer_pass[0]} and the actual value is 1. The loss is: {loss(output_layer_pass[0], 1)}\")\n"
   ]
  },
  {
   "cell_type": "code",
   "execution_count": 353,
   "metadata": {},
   "outputs": [
    {
     "name": "stdout",
     "output_type": "stream",
     "text": [
      "d_lossBYd_pred: 2.621742536423798\n",
      "d_predBYd_output_weights: -0.14493286624670665\n"
     ]
    },
    {
     "data": {
      "text/plain": [
       "''"
      ]
     },
     "execution_count": 353,
     "metadata": {},
     "output_type": "execute_result"
    }
   ],
   "source": [
    "# Backpropragation\n",
    "lr = 0.01 # learning rate\n",
    "\n",
    "d_lossBYd_pred = 2*(loss(output_layer_pass[0], 1))\n",
    "print(f\"d_lossBYd_pred: {d_lossBYd_pred}\")\n",
    "\n",
    "d_predBYd_output_weights = output_layer_pass[0]\n",
    "print(f\"d_predBYd_output_weights: {d_predBYd_output_weights}\")\n",
    "\n",
    "\"\"\"\n",
    "# Forward pass\n",
    "x = [0.1, 0.2, 0.3, 0.4] # example input\n",
    "y_true = 0.5 # example label\n",
    "\n",
    "hidden_outputs = [neuron(x) for neuron in hidden_layer]\n",
    "y_pred = [neuron(hidden_outputs) for neuron in output_layer]\n",
    "\n",
    "# Compute the loss\n",
    "loss = (y_pred[0] - y_true)**2\n",
    "\n",
    "# Backward pass\n",
    "d_loss_d_pred = 2*(y_pred[0] - y_true) # Derivative of MSE w.r.t y_pred\n",
    "d_pred_d_output_weights = hidden_outputs # Derivative of output w.r.t output weights\n",
    "d_pred_d_hidden_outputs = [output_layer[0].weights[i] for i in range(hidden_size)] # Derivative of output w.r.t hidden layer outputs\n",
    "d_hidden_outputs_d_hidden_weights = x # Derivative of hidden layer outputs w.r.t hidden layer weights\n",
    "\n",
    "d_loss_d_output_weights = [d_loss_d_pred*d_pred_d_output_weights[i] for i in range(hidden_size)] # Derivative of loss w.r.t output weights\n",
    "d_loss_d_hidden_outputs = [d_loss_d_pred*d_pred_d_hidden_outputs[i] for i in range(hidden_size)] # Derivative of loss w.r.t hidden layer outputs\n",
    "d_loss_d_hidden_weights = [d_loss_d_hidden_outputs[i]*hidden_outputs[i]*(1-hidden_outputs[i])*d_hidden_outputs_d_hidden_weights[j] for j in range(input_size) for i in range(hidden_size)] # Derivative of loss w.r.t hidden layer weights\n",
    "\n",
    "# Update weights and biases\n",
    "for i in range(output_size):\n",
    "    for j in range(hidden_size):\n",
    "        output_layer[i].weights[j] -= learning_rate*d_loss_d_output_weights[j]\n",
    "    output_layer[i].bias -= learning_rate*d_loss_d_pred\n",
    "    \n",
    "for i in range(hidden_size):\n",
    "    for j in range(input_size):\n",
    "        hidden_layer[i].weights[j] -= learning_rate*d_loss_d_hidden_weights[j*hidden_size+i]\n",
    "    hidden_layer[i].bias -= learning_rate*d_loss_d_hidden_outputs[i]\n",
    "\"\"\""
   ]
  }
 ],
 "metadata": {
  "kernelspec": {
   "display_name": "Python 3",
   "language": "python",
   "name": "python3"
  },
  "language_info": {
   "codemirror_mode": {
    "name": "ipython",
    "version": 3
   },
   "file_extension": ".py",
   "mimetype": "text/x-python",
   "name": "python",
   "nbconvert_exporter": "python",
   "pygments_lexer": "ipython3",
   "version": "3.10.6"
  },
  "orig_nbformat": 4
 },
 "nbformat": 4,
 "nbformat_minor": 2
}
