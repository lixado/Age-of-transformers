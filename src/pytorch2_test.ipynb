{
 "cells": [
  {
   "cell_type": "code",
   "execution_count": 1,
   "metadata": {},
   "outputs": [],
   "source": [
    "import torch\n",
    "import torch.nn as nn\n",
    "from torchvision.models import resnet50\n",
    "\n",
    "torch.set_float32_matmul_precision('high')\n",
    "\n",
    "class DDQN(nn.Module):\n",
    "    def __init__(self):\n",
    "        super().__init__()\n",
    "    \n",
    "        self.online = nn.Sequential(\n",
    "            resnet50(),\n",
    "            nn.Linear(1000, 100)\n",
    "        )\n",
    "\n",
    "    def forward(self, input):\n",
    "        return self.online(input)"
   ]
  },
  {
   "cell_type": "code",
   "execution_count": 2,
   "metadata": {},
   "outputs": [],
   "source": [
    "def timed(fn):\n",
    "    start = torch.cuda.Event(enable_timing=True)\n",
    "    end = torch.cuda.Event(enable_timing=True)\n",
    "    start.record()\n",
    "    result = fn()\n",
    "    end.record()\n",
    "    torch.cuda.synchronize()\n",
    "    return result, start.elapsed_time(end) / 1000\n",
    "\n",
    "def generate_data():\n",
    "    return torch.randn(1, 3, 64, 64).to(torch.float32).cuda()\n",
    "\n",
    "def evaluate(mod, inp):\n",
    "    return mod(inp)"
   ]
  },
  {
   "cell_type": "code",
   "execution_count": 3,
   "metadata": {},
   "outputs": [
    {
     "name": "stdout",
     "output_type": "stream",
     "text": [
      "normal eval time 0: 2.298642333984375\n",
      "normal eval time 1: 0.00820531177520752\n",
      "normal eval time 2: 0.0076605439186096195\n",
      "normal eval time 3: 0.007527423858642578\n",
      "normal eval time 4: 0.008177663803100586\n",
      "normal eval time 5: 0.006677504062652588\n",
      "normal eval time 6: 0.00637440013885498\n",
      "normal eval time 7: 0.006554624080657959\n",
      "normal eval time 8: 0.0064542717933654785\n",
      "normal eval time 9: 0.0066344962120056155\n",
      "compiled eval time 0: 14.5871083984375\n",
      "compiled eval time 1: 0.0030658559799194335\n",
      "compiled eval time 2: 0.0025661439895629883\n",
      "compiled eval time 3: 0.002099200010299683\n",
      "compiled eval time 4: 0.002085887908935547\n",
      "compiled eval time 5: 0.002091007947921753\n",
      "compiled eval time 6: 0.0020797441005706786\n",
      "compiled eval time 7: 0.0021975040435791016\n",
      "compiled eval time 8: 0.002401279926300049\n",
      "compiled eval time 9: 0.004622335910797119\n"
     ]
    }
   ],
   "source": [
    "model = DDQN().cuda()\n",
    "\n",
    "iters = 10\n",
    "\n",
    "elapsed_times = []\n",
    "for i in range(iters):\n",
    "    inp = generate_data()\n",
    "    _, eager_time = timed(lambda: evaluate(model, inp))\n",
    "    print(f\"normal eval time {i}: {eager_time}\")\n",
    "\n",
    "\n",
    "#compiledModel = torch.compile(model)\n",
    "newModel =  torch.compile(DDQN().cuda(), mode=\"reduce-overhead\")\n",
    "\n",
    "iters = 10\n",
    "\n",
    "elapsed_times = []\n",
    "for i in range(iters):\n",
    "    inp = generate_data()\n",
    "    _, eager_time = timed(lambda: evaluate(newModel, inp))\n",
    "    print(f\"compiled eval time {i}: {eager_time}\")\n",
    "\n"
   ]
  },
  {
   "cell_type": "code",
   "execution_count": null,
   "metadata": {},
   "outputs": [],
   "source": []
  }
 ],
 "metadata": {
  "kernelspec": {
   "display_name": "Python 3",
   "language": "python",
   "name": "python3"
  },
  "language_info": {
   "codemirror_mode": {
    "name": "ipython",
    "version": 3
   },
   "file_extension": ".py",
   "mimetype": "text/x-python",
   "name": "python",
   "nbconvert_exporter": "python",
   "pygments_lexer": "ipython3",
   "version": "3.10.6"
  },
  "orig_nbformat": 4
 },
 "nbformat": 4,
 "nbformat_minor": 2
}
