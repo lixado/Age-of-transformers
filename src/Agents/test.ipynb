{
 "cells": [
  {
   "cell_type": "code",
   "execution_count": 9,
   "metadata": {},
   "outputs": [],
   "source": [
    "from transformers import DecisionTransformerModel, DecisionTransformerConfig\n",
    "import numpy as np\n",
    "import torch\n",
    "\n",
    "device = \"cpu\"\n",
    "\n",
    "scale = 1000.0  # normalization for rewards/returns\n",
    "TARGET_RETURN = 3600 / scale  # evaluation conditioning targets, 3600 is reasonable from the paper LINK\n",
    "state_dim = (3, 32, 32)\n",
    "act_dim = 6"
   ]
  },
  {
   "cell_type": "code",
   "execution_count": 58,
   "metadata": {},
   "outputs": [
    {
     "name": "stdout",
     "output_type": "stream",
     "text": [
      "torch.Size([1, 1, 3072])\n",
      "torch.Size([1, 6])\n",
      "torch.Size([1, 1])\n",
      "torch.Size([1, 1])\n",
      "4\n",
      "torch.Size([1, 1, 6])\n",
      "torch.Size([6])\n"
     ]
    },
    {
     "data": {
      "text/plain": [
       "(tensor([[[-0.4784, -0.0251, -0.4146,  ...,  0.0184, -0.1038, -0.0374]]],\n",
       "        grad_fn=<ViewBackward0>),\n",
       " tensor([[[-0.0925, -0.1899, -0.1619, -0.3070,  0.2921, -0.1744]]],\n",
       "        grad_fn=<TanhBackward0>),\n",
       " tensor([[[-0.4369]]], grad_fn=<ViewBackward0>))"
      ]
     },
     "execution_count": 58,
     "metadata": {},
     "output_type": "execute_result"
    }
   ],
   "source": [
    "state_dim_flatten = state_dim[0]*state_dim[1]*state_dim[2]\n",
    "\n",
    "t = 3\n",
    "target_return = torch.tensor(TARGET_RETURN, device=device, dtype=torch.float32).reshape(1, 1)\n",
    "states = torch.rand(state_dim, device=device, dtype=torch.float32).reshape(1, 1, state_dim_flatten)\n",
    "actions = torch.rand((1, act_dim), device=device, dtype=torch.float32)\n",
    "rewards = torch.rand((1, 1), device=device, dtype=torch.float32)\n",
    "timesteps = torch.tensor(0, device=device, dtype=torch.long).reshape(1, 1)\n",
    "attention_mask = torch.zeros(1, 1, device=device, dtype=torch.float32)\n",
    "\n",
    "\n",
    "print(states.shape)\n",
    "print(actions.shape)\n",
    "print(rewards.shape)\n",
    "print(target_return.shape)\n",
    "\n",
    "config = DecisionTransformerConfig(state_dim_flatten, act_dim, max_ep_len=4096)\n",
    "\n",
    "\n",
    "model = DecisionTransformerModel(config).to(device)\n",
    "model.eval()\n",
    "\n",
    "state_preds, action_preds, return_preds = model(states=states,\n",
    "        actions=actions,\n",
    "        rewards=rewards,\n",
    "        returns_to_go=target_return,\n",
    "        timesteps=timesteps,\n",
    "        attention_mask=attention_mask,\n",
    "        return_dict=False)\n",
    "\n",
    "print(torch.argmax(action_preds).item())\n",
    "print(action_preds.shape)\n",
    "print(torch.squeeze(action_preds).shape)\n",
    "\n",
    "state_preds, action_preds, return_preds"
   ]
  },
  {
   "cell_type": "code",
   "execution_count": 297,
   "metadata": {},
   "outputs": [
    {
     "name": "stdout",
     "output_type": "stream",
     "text": [
      "Pure random:  [2, 4, 3, 0, 1]\n",
      "3\n",
      "[3]\n"
     ]
    }
   ],
   "source": [
    "import random\n",
    "\n",
    "population = [0, 1, 2, 3, 4]\n",
    "ls = random.sample(population,5)\n",
    "\n",
    "print(\"Pure random: \", ls)\n",
    "\n",
    "max_sequence = 4\n",
    "\n",
    "def sample_with_order(population, max_sequence_length):\n",
    "    k = random.randint(1, max_sequence_length)\n",
    "    k_start = random.randint(0, len(population)-k)\n",
    "    return population[k_start: k_start+k]\n",
    "\n",
    "\n",
    "print(sample_with_order(population, max_sequence))\n",
    "\n",
    "   "
   ]
  },
  {
   "cell_type": "code",
   "execution_count": 298,
   "metadata": {},
   "outputs": [
    {
     "ename": "RuntimeError",
     "evalue": "shape '[100, 1]' is invalid for input of size 1",
     "output_type": "error",
     "traceback": [
      "\u001b[0;31m---------------------------------------------------------------------------\u001b[0m",
      "\u001b[0;31mRuntimeError\u001b[0m                              Traceback (most recent call last)",
      "Cell \u001b[0;32mIn[298], line 1\u001b[0m\n\u001b[0;32m----> 1\u001b[0m target_return \u001b[39m=\u001b[39m torch\u001b[39m.\u001b[39;49mtensor(\u001b[39m1\u001b[39;49m, device\u001b[39m=\u001b[39;49mdevice, dtype\u001b[39m=\u001b[39;49mtorch\u001b[39m.\u001b[39;49mfloat32)\u001b[39m.\u001b[39;49mreshape(\u001b[39m100\u001b[39;49m, \u001b[39m1\u001b[39;49m)\n",
      "\u001b[0;31mRuntimeError\u001b[0m: shape '[100, 1]' is invalid for input of size 1"
     ]
    }
   ],
   "source": [
    "target_return = torch.ones(1, device=device, dtype=torch.float32).reshape(100, 1)"
   ]
  }
 ],
 "metadata": {
  "kernelspec": {
   "display_name": "env",
   "language": "python",
   "name": "python3"
  },
  "language_info": {
   "codemirror_mode": {
    "name": "ipython",
    "version": 3
   },
   "file_extension": ".py",
   "mimetype": "text/x-python",
   "name": "python",
   "nbconvert_exporter": "python",
   "pygments_lexer": "ipython3",
   "version": "3.10.6"
  },
  "orig_nbformat": 4
 },
 "nbformat": 4,
 "nbformat_minor": 2
}
