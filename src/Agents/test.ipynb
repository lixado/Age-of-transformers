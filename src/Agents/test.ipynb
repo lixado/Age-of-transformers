{
 "cells": [
  {
   "cell_type": "code",
   "execution_count": 9,
   "metadata": {},
   "outputs": [],
   "source": [
    "from transformers import DecisionTransformerModel, DecisionTransformerConfig\n",
    "import numpy as np\n",
    "import torch\n",
    "\n",
    "device = \"cpu\"\n",
    "\n",
    "scale = 1000.0  # normalization for rewards/returns\n",
    "TARGET_RETURN = 3600 / scale  # evaluation conditioning targets, 3600 is reasonable from the paper LINK\n",
    "state_dim = (3, 32, 32)\n",
    "act_dim = 6"
   ]
  },
  {
   "cell_type": "code",
   "execution_count": 49,
   "metadata": {},
   "outputs": [
    {
     "name": "stdout",
     "output_type": "stream",
     "text": [
      "torch.Size([1, 1, 3072])\n",
      "torch.Size([1, 6])\n",
      "torch.Size([1, 1])\n",
      "torch.Size([1, 1])\n"
     ]
    },
    {
     "data": {
      "text/plain": [
       "(tensor([[[-0.1079,  0.5440, -0.2023,  ...,  0.1443, -0.1405,  0.1818]]],\n",
       "        grad_fn=<ViewBackward0>),\n",
       " tensor([[[-0.0326, -0.0673, -0.2764, -0.0077,  0.1668, -0.2994]]],\n",
       "        grad_fn=<TanhBackward0>),\n",
       " tensor([[[-0.1395]]], grad_fn=<ViewBackward0>))"
      ]
     },
     "execution_count": 49,
     "metadata": {},
     "output_type": "execute_result"
    }
   ],
   "source": [
    "state_dim_flatten = state_dim[0]*state_dim[1]*state_dim[2]\n",
    "\n",
    "t = 3\n",
    "target_return = torch.tensor(TARGET_RETURN, device=device, dtype=torch.float32).reshape(1, 1)\n",
    "states = torch.rand(state_dim, device=device, dtype=torch.float32).reshape(1, 1, state_dim_flatten)\n",
    "actions = torch.rand((1, act_dim), device=device, dtype=torch.float32)\n",
    "rewards = torch.rand((1, 1), device=device, dtype=torch.float32)\n",
    "timesteps = torch.tensor(0, device=device, dtype=torch.long).reshape(1, 1)\n",
    "attention_mask = torch.zeros(1, 1, device=device, dtype=torch.float32)\n",
    "\n",
    "\n",
    "print(states.shape)\n",
    "print(actions.shape)\n",
    "print(rewards.shape)\n",
    "print(target_return.shape)\n",
    "\n",
    "config = DecisionTransformerConfig(state_dim_flatten, act_dim, max_ep_len=4096)\n",
    "\n",
    "\n",
    "model = DecisionTransformerModel(config).to(device)\n",
    "model.eval()\n",
    "\n",
    "state_preds, action_preds, return_preds = model(states=states,\n",
    "        actions=actions,\n",
    "        rewards=rewards,\n",
    "        returns_to_go=target_return,\n",
    "        timesteps=timesteps,\n",
    "        attention_mask=attention_mask,\n",
    "        return_dict=False)\n",
    "\n",
    "state_preds, action_preds, return_preds"
   ]
  }
 ],
 "metadata": {
  "kernelspec": {
   "display_name": "env",
   "language": "python",
   "name": "python3"
  },
  "language_info": {
   "codemirror_mode": {
    "name": "ipython",
    "version": 3
   },
   "file_extension": ".py",
   "mimetype": "text/x-python",
   "name": "python",
   "nbconvert_exporter": "python",
   "pygments_lexer": "ipython3",
   "version": "3.10.6"
  },
  "orig_nbformat": 4
 },
 "nbformat": 4,
 "nbformat_minor": 2
}
