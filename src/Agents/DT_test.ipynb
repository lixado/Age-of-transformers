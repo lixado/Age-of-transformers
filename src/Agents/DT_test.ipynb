{
 "cells": [
  {
   "cell_type": "code",
   "execution_count": 1,
   "metadata": {},
   "outputs": [
    {
     "name": "stderr",
     "output_type": "stream",
     "text": [
      "/home/pedron18/.local/lib/python3.10/site-packages/tqdm/auto.py:22: TqdmWarning: IProgress not found. Please update jupyter and ipywidgets. See https://ipywidgets.readthedocs.io/en/stable/user_install.html\n",
      "  from .autonotebook import tqdm as notebook_tqdm\n"
     ]
    }
   ],
   "source": [
    "from transformers import DecisionTransformerModel, DecisionTransformerConfig\n",
    "import numpy as np\n",
    "import torch\n",
    "\n",
    "device = \"cpu\"\n",
    "\n",
    "scale = 1000.0  # normalization for rewards/returns\n",
    "TARGET_RETURN = 3600 / scale  # evaluation conditioning targets, 3600 is reasonable from the paper LINK\n",
    "state_dim = (3, 32, 32)\n",
    "state_dim_flatten = state_dim[0]*state_dim[1]*state_dim[2]\n",
    "act_dim = 6"
   ]
  },
  {
   "cell_type": "code",
   "execution_count": null,
   "metadata": {},
   "outputs": [
    {
     "name": "stdout",
     "output_type": "stream",
     "text": [
      "target_return torch.Size([1, 1365, 1])\n",
      "states torch.Size([1, 1365, 3072])\n",
      "actions torch.Size([1, 1365, 6])\n",
      "rewards torch.Size([1, 2, 1365])\n",
      "timesteps torch.Size([1, 1365])\n",
      "attention_mask torch.Size([1, 1365])\n",
      "state_preds torch.Size([1, 1365, 3072])\n",
      "action_preds torch.Size([1, 1365, 6])\n",
      "return_preds torch.Size([1, 1365, 1])\n",
      "state_preds tensor([[-7.5244e-02,  5.6634e-01, -3.4422e-04,  ..., -1.0548e-01,\n",
      "         -4.8773e-02, -7.8832e-02],\n",
      "        [-3.3674e-01,  2.3676e-01, -8.1974e-02,  ..., -1.1807e-01,\n",
      "         -1.0754e-01,  7.4825e-02],\n",
      "        [-2.9564e-02,  5.4737e-02,  7.6918e-02,  ..., -4.3481e-04,\n",
      "          1.1208e-01,  5.5517e-02],\n",
      "        ...,\n",
      "        [-2.1386e-01,  3.9948e-01,  1.5797e-01,  ..., -2.0210e-02,\n",
      "         -5.6381e-02,  1.3957e-01],\n",
      "        [-3.5902e-01,  3.6190e-02,  1.8222e-01,  ...,  1.4219e-01,\n",
      "         -1.0479e-01,  2.9675e-01],\n",
      "        [-1.4891e-01,  2.5938e-01,  7.2407e-02,  ...,  1.3579e-01,\n",
      "          7.0109e-02,  1.2475e-01]])\n",
      "action_preds tensor([[ 0.1855, -0.1198, -0.0738, -0.0596, -0.0948, -0.2661],\n",
      "        [-0.0301, -0.1858, -0.1169,  0.0480, -0.0586, -0.2139],\n",
      "        [-0.1710, -0.0795, -0.1171,  0.0411, -0.2540, -0.1939],\n",
      "        ...,\n",
      "        [ 0.0270, -0.0362, -0.1799, -0.0412, -0.0837, -0.1042],\n",
      "        [-0.0173, -0.1429, -0.2389, -0.1122, -0.0361, -0.3199],\n",
      "        [ 0.1350, -0.2114, -0.1550, -0.0500, -0.0257, -0.2846]])\n",
      "return_preds tensor([[ 0.2678],\n",
      "        [-0.1173],\n",
      "        [-0.1818],\n",
      "        ...,\n",
      "        [ 0.1111],\n",
      "        [-0.0495],\n",
      "        [-0.2073]])\n"
     ]
    }
   ],
   "source": [
    "n_positions=1024*4\n",
    "max_ep_len=100 # no impact?\n",
    "\n",
    "t = int(n_positions/3) # number of elements in sequence\n",
    "b = 1 # batch \n",
    "\n",
    "target_return = torch.rand((b, t, 1), device=device, dtype=torch.float32) # expected future return\n",
    "states = torch.rand((b, t, state_dim_flatten), device=device, dtype=torch.float32)#.reshape(1, 1, state_dim_flatten) #\n",
    "actions = torch.rand((b, t, act_dim), device=device, dtype=torch.float32)\n",
    "\n",
    "rewards = torch.rand((b,2, t), device=device, dtype=torch.float32) # doesnt matter idk why exists\n",
    "timesteps = torch.randint_like(torch.zeros((b, t)), device=device, low = 100, high = 102, dtype=torch.long) # integer what timestep we on\n",
    "\n",
    "attention_mask = torch.ones((b, t), device=device, dtype=torch.long) # this is the default\n",
    "\n",
    "print(\"target_return\",target_return.shape)\n",
    "print(\"states\",states.shape)\n",
    "print(\"actions\",actions.shape)\n",
    "print(\"rewards\",rewards.shape)\n",
    "print(\"timesteps\", timesteps.shape)\n",
    "print(\"attention_mask\", attention_mask.shape)\n",
    "\n",
    "config = DecisionTransformerConfig(state_dim_flatten, act_dim, max_ep_len=max_ep_len,n_positions=n_positions)\n",
    "\n",
    "\n",
    "model = DecisionTransformerModel(config).to(device)\n",
    "model.eval()\n",
    "with torch.no_grad():\n",
    "        state_preds, action_preds, return_preds = model(states=states,\n",
    "                actions=actions,\n",
    "                rewards=rewards,\n",
    "                returns_to_go=target_return,\n",
    "                timesteps=timesteps,\n",
    "                attention_mask=attention_mask,\n",
    "                return_dict=False)\n",
    "\n",
    "        #print(\"argmax\", torch.argmax(action_preds).item())\n",
    "        print(\"state_preds\",state_preds.shape)\n",
    "        print(\"action_preds\",action_preds.shape)\n",
    "        print(\"return_preds\", return_preds.shape)\n",
    "\n",
    "\n",
    "        print(\"state_preds\", state_preds[0])\n",
    "        print(\"action_preds\", action_preds[0])\n",
    "        print(\"return_preds\", return_preds[0])"
   ]
  },
  {
   "cell_type": "code",
   "execution_count": null,
   "metadata": {},
   "outputs": [
    {
     "name": "stdout",
     "output_type": "stream",
     "text": [
      "Pure random:  [0, 1, 4, 2, 3]\n",
      "[1, 2, 3, 4]\n"
     ]
    }
   ],
   "source": [
    "import random\n",
    "\n",
    "population = [0, 1, 2, 3, 4]\n",
    "ls = random.sample(population,5)\n",
    "\n",
    "print(\"Pure random: \", ls)\n",
    "\n",
    "max_sequence = 4\n",
    "\n",
    "def sample_with_order(population, max_sequence_length):\n",
    "    \"\"\"\n",
    "        Samples [1,population] elements from a sequence mantaining the order\n",
    "    \"\"\"\n",
    "    k = random.randint(1, max_sequence_length)\n",
    "    k_start = random.randint(0, len(population)-k)\n",
    "    return population[k_start: k_start+k]\n",
    "\n",
    "\n",
    "print(sample_with_order(population, max_sequence))\n",
    "\n",
    "   "
   ]
  },
  {
   "cell_type": "code",
   "execution_count": null,
   "metadata": {},
   "outputs": [
    {
     "ename": "RuntimeError",
     "evalue": "shape '[100, 1]' is invalid for input of size 1",
     "output_type": "error",
     "traceback": [
      "\u001b[0;31m---------------------------------------------------------------------------\u001b[0m",
      "\u001b[0;31mRuntimeError\u001b[0m                              Traceback (most recent call last)",
      "Cell \u001b[0;32mIn[5], line 1\u001b[0m\n\u001b[0;32m----> 1\u001b[0m target_return \u001b[39m=\u001b[39m torch\u001b[39m.\u001b[39;49mones(\u001b[39m1\u001b[39;49m, device\u001b[39m=\u001b[39;49mdevice, dtype\u001b[39m=\u001b[39;49mtorch\u001b[39m.\u001b[39;49mfloat32)\u001b[39m.\u001b[39;49mreshape(\u001b[39m100\u001b[39;49m, \u001b[39m1\u001b[39;49m)\n",
      "\u001b[0;31mRuntimeError\u001b[0m: shape '[100, 1]' is invalid for input of size 1"
     ]
    }
   ],
   "source": [
    "target_return = torch.ones(1, device=device, dtype=torch.float32).reshape(100, 1)"
   ]
  },
  {
   "cell_type": "code",
   "execution_count": null,
   "metadata": {},
   "outputs": [],
   "source": []
  }
 ],
 "metadata": {
  "kernelspec": {
   "display_name": "Python 3",
   "language": "python",
   "name": "python3"
  },
  "language_info": {
   "codemirror_mode": {
    "name": "ipython",
    "version": 3
   },
   "file_extension": ".py",
   "mimetype": "text/x-python",
   "name": "python",
   "nbconvert_exporter": "python",
   "pygments_lexer": "ipython3",
   "version": "3.10.6"
  },
  "orig_nbformat": 4
 },
 "nbformat": 4,
 "nbformat_minor": 2
}
