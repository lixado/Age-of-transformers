{
 "cells": [
  {
   "cell_type": "code",
   "execution_count": 2,
   "metadata": {},
   "outputs": [
    {
     "name": "stderr",
     "output_type": "stream",
     "text": [
      "/home/pedron18/.local/lib/python3.10/site-packages/tqdm/auto.py:22: TqdmWarning: IProgress not found. Please update jupyter and ipywidgets. See https://ipywidgets.readthedocs.io/en/stable/user_install.html\n",
      "  from .autonotebook import tqdm as notebook_tqdm\n"
     ]
    }
   ],
   "source": [
    "from transformers import DecisionTransformerModel, DecisionTransformerConfig\n",
    "import numpy as np\n",
    "import torch\n",
    "\n",
    "device = \"cpu\"\n",
    "\n",
    "scale = 1000.0  # normalization for rewards/returns\n",
    "TARGET_RETURN = 3600 / scale  # evaluation conditioning targets, 3600 is reasonable from the paper LINK\n",
    "state_dim = (3, 32, 32)\n",
    "state_dim_flatten = state_dim[0]*state_dim[1]*state_dim[2]\n",
    "act_dim = 6"
   ]
  },
  {
   "cell_type": "code",
   "execution_count": 3,
   "metadata": {},
   "outputs": [
    {
     "name": "stdout",
     "output_type": "stream",
     "text": [
      "target_return torch.Size([1, 1])\n",
      "states torch.Size([1, 1, 3072])\n",
      "actions torch.Size([1, 6])\n",
      "rewards torch.Size([1, 1])\n",
      "timesteps torch.Size([1, 1])\n",
      "attention_mask torch.Size([1, 1])\n"
     ]
    }
   ],
   "source": [
    "t = 3\n",
    "\n",
    "target_return = torch.tensor(TARGET_RETURN, device=device, dtype=torch.float32).reshape(1, 1)\n",
    "states = torch.rand(state_dim, device=device, dtype=torch.float32).reshape(1, 1, state_dim_flatten)\n",
    "actions = torch.rand((1, act_dim), device=device, dtype=torch.float32)\n",
    "rewards = torch.rand((1, 1), device=device, dtype=torch.float32)\n",
    "timesteps = torch.tensor(1, device=device, dtype=torch.long).reshape(1, 1)\n",
    "attention_mask = torch.zeros(1, 1, device=device, dtype=torch.float32)\n",
    "\n",
    "print(\"target_return\",target_return.shape)\n",
    "print(\"states\",states.shape)\n",
    "print(\"actions\",actions.shape)\n",
    "print(\"rewards\",rewards.shape)\n",
    "print(\"timesteps\", target_return.shape)\n",
    "print(\"attention_mask\", attention_mask.shape)"
   ]
  },
  {
   "cell_type": "code",
   "execution_count": 19,
   "metadata": {},
   "outputs": [
    {
     "name": "stdout",
     "output_type": "stream",
     "text": [
      "target_return torch.Size([2, 1])\n",
      "states torch.Size([2, 3, 3072])\n",
      "actions torch.Size([2, 3, 6])\n",
      "rewards torch.Size([2, 3])\n",
      "timesteps torch.Size([2, 3])\n",
      "attention_mask torch.Size([2, 3])\n"
     ]
    }
   ],
   "source": [
    "t = 3 # number of elements in sequence\n",
    "b = 2 # batch \n",
    "\n",
    "target_return = torch.rand((b, 1), device=device, dtype=torch.float32) # expected future return\n",
    "\n",
    "states = torch.rand((b, t, state_dim_flatten), device=device, dtype=torch.float32)#.reshape(1, 1, state_dim_flatten) #\n",
    "actions = torch.rand((b, t, act_dim), device=device, dtype=torch.float32)\n",
    "\n",
    "rewards = torch.rand((b, t), device=device, dtype=torch.float32)\n",
    "timesteps = torch.randint_like(torch.zeros((b, t)), device=device, low = 0, high = 50, dtype=torch.long) # integer what timestep we on\n",
    "\n",
    "attention_mask = torch.zeros((b, t), device=device, dtype=torch.float32)\n",
    "\n",
    "print(\"target_return\",target_return.shape)\n",
    "print(\"states\",states.shape)\n",
    "print(\"actions\",actions.shape)\n",
    "print(\"rewards\",rewards.shape)\n",
    "print(\"timesteps\", timesteps.shape)\n",
    "print(\"attention_mask\", attention_mask.shape)"
   ]
  },
  {
   "cell_type": "code",
   "execution_count": 20,
   "metadata": {},
   "outputs": [
    {
     "ename": "RuntimeError",
     "evalue": "The size of tensor a (2) must match the size of tensor b (3) at non-singleton dimension 1",
     "output_type": "error",
     "traceback": [
      "\u001b[0;31m---------------------------------------------------------------------------\u001b[0m",
      "\u001b[0;31mRuntimeError\u001b[0m                              Traceback (most recent call last)",
      "Cell \u001b[0;32mIn[20], line 7\u001b[0m\n\u001b[1;32m      4\u001b[0m model \u001b[39m=\u001b[39m DecisionTransformerModel(config)\u001b[39m.\u001b[39mto(device)\n\u001b[1;32m      5\u001b[0m model\u001b[39m.\u001b[39meval()\n\u001b[0;32m----> 7\u001b[0m state_preds, action_preds, return_preds \u001b[39m=\u001b[39m model(states\u001b[39m=\u001b[39;49mstates,\n\u001b[1;32m      8\u001b[0m         actions\u001b[39m=\u001b[39;49mactions,\n\u001b[1;32m      9\u001b[0m         rewards\u001b[39m=\u001b[39;49mrewards,\n\u001b[1;32m     10\u001b[0m         returns_to_go\u001b[39m=\u001b[39;49mtarget_return,\n\u001b[1;32m     11\u001b[0m         timesteps\u001b[39m=\u001b[39;49mtimesteps,\n\u001b[1;32m     12\u001b[0m         attention_mask\u001b[39m=\u001b[39;49mattention_mask,\n\u001b[1;32m     13\u001b[0m         return_dict\u001b[39m=\u001b[39;49m\u001b[39mFalse\u001b[39;49;00m)\n\u001b[1;32m     15\u001b[0m \u001b[39m#print(\"argmax\", torch.argmax(action_preds).item())\u001b[39;00m\n\u001b[1;32m     16\u001b[0m \u001b[39mprint\u001b[39m(\u001b[39m\"\u001b[39m\u001b[39mstate_preds\u001b[39m\u001b[39m\"\u001b[39m,state_preds\u001b[39m.\u001b[39mshape)\n",
      "File \u001b[0;32m~/.local/lib/python3.10/site-packages/torch/nn/modules/module.py:1501\u001b[0m, in \u001b[0;36mModule._call_impl\u001b[0;34m(self, *args, **kwargs)\u001b[0m\n\u001b[1;32m   1496\u001b[0m \u001b[39m# If we don't have any hooks, we want to skip the rest of the logic in\u001b[39;00m\n\u001b[1;32m   1497\u001b[0m \u001b[39m# this function, and just call forward.\u001b[39;00m\n\u001b[1;32m   1498\u001b[0m \u001b[39mif\u001b[39;00m \u001b[39mnot\u001b[39;00m (\u001b[39mself\u001b[39m\u001b[39m.\u001b[39m_backward_hooks \u001b[39mor\u001b[39;00m \u001b[39mself\u001b[39m\u001b[39m.\u001b[39m_backward_pre_hooks \u001b[39mor\u001b[39;00m \u001b[39mself\u001b[39m\u001b[39m.\u001b[39m_forward_hooks \u001b[39mor\u001b[39;00m \u001b[39mself\u001b[39m\u001b[39m.\u001b[39m_forward_pre_hooks\n\u001b[1;32m   1499\u001b[0m         \u001b[39mor\u001b[39;00m _global_backward_pre_hooks \u001b[39mor\u001b[39;00m _global_backward_hooks\n\u001b[1;32m   1500\u001b[0m         \u001b[39mor\u001b[39;00m _global_forward_hooks \u001b[39mor\u001b[39;00m _global_forward_pre_hooks):\n\u001b[0;32m-> 1501\u001b[0m     \u001b[39mreturn\u001b[39;00m forward_call(\u001b[39m*\u001b[39;49margs, \u001b[39m*\u001b[39;49m\u001b[39m*\u001b[39;49mkwargs)\n\u001b[1;32m   1502\u001b[0m \u001b[39m# Do not call functions when jit is used\u001b[39;00m\n\u001b[1;32m   1503\u001b[0m full_backward_hooks, non_full_backward_hooks \u001b[39m=\u001b[39m [], []\n",
      "File \u001b[0;32m~/.local/lib/python3.10/site-packages/transformers/models/decision_transformer/modeling_decision_transformer.py:905\u001b[0m, in \u001b[0;36mDecisionTransformerModel.forward\u001b[0;34m(self, states, actions, rewards, returns_to_go, timesteps, attention_mask, output_hidden_states, output_attentions, return_dict)\u001b[0m\n\u001b[1;32m    903\u001b[0m state_embeddings \u001b[39m=\u001b[39m state_embeddings \u001b[39m+\u001b[39m time_embeddings\n\u001b[1;32m    904\u001b[0m action_embeddings \u001b[39m=\u001b[39m action_embeddings \u001b[39m+\u001b[39m time_embeddings\n\u001b[0;32m--> 905\u001b[0m returns_embeddings \u001b[39m=\u001b[39m returns_embeddings \u001b[39m+\u001b[39;49m time_embeddings\n\u001b[1;32m    907\u001b[0m \u001b[39m# this makes the sequence look like (R_1, s_1, a_1, R_2, s_2, a_2, ...)\u001b[39;00m\n\u001b[1;32m    908\u001b[0m \u001b[39m# which works nice in an autoregressive sense since states predict actions\u001b[39;00m\n\u001b[1;32m    909\u001b[0m stacked_inputs \u001b[39m=\u001b[39m (\n\u001b[1;32m    910\u001b[0m     torch\u001b[39m.\u001b[39mstack((returns_embeddings, state_embeddings, action_embeddings), dim\u001b[39m=\u001b[39m\u001b[39m1\u001b[39m)\n\u001b[1;32m    911\u001b[0m     \u001b[39m.\u001b[39mpermute(\u001b[39m0\u001b[39m, \u001b[39m2\u001b[39m, \u001b[39m1\u001b[39m, \u001b[39m3\u001b[39m)\n\u001b[1;32m    912\u001b[0m     \u001b[39m.\u001b[39mreshape(batch_size, \u001b[39m3\u001b[39m \u001b[39m*\u001b[39m seq_length, \u001b[39mself\u001b[39m\u001b[39m.\u001b[39mhidden_size)\n\u001b[1;32m    913\u001b[0m )\n",
      "\u001b[0;31mRuntimeError\u001b[0m: The size of tensor a (2) must match the size of tensor b (3) at non-singleton dimension 1"
     ]
    }
   ],
   "source": [
    "config = DecisionTransformerConfig(state_dim_flatten, act_dim, max_ep_len=4096)\n",
    "\n",
    "\n",
    "model = DecisionTransformerModel(config).to(device)\n",
    "model.eval()\n",
    "\n",
    "state_preds, action_preds, return_preds = model(states=states,\n",
    "        actions=actions,\n",
    "        rewards=rewards,\n",
    "        returns_to_go=target_return,\n",
    "        timesteps=timesteps,\n",
    "        attention_mask=attention_mask,\n",
    "        return_dict=False)\n",
    "\n",
    "#print(\"argmax\", torch.argmax(action_preds).item())\n",
    "print(\"state_preds\",state_preds.shape)\n",
    "print(\"action_preds\",action_preds.shape)\n",
    "print(\"return_preds\", return_preds.shape)\n",
    "\n",
    "state_preds, action_preds, return_preds"
   ]
  },
  {
   "cell_type": "code",
   "execution_count": null,
   "metadata": {},
   "outputs": [
    {
     "name": "stdout",
     "output_type": "stream",
     "text": [
      "Pure random:  [0, 1, 4, 2, 3]\n",
      "[1, 2, 3, 4]\n"
     ]
    }
   ],
   "source": [
    "import random\n",
    "\n",
    "population = [0, 1, 2, 3, 4]\n",
    "ls = random.sample(population,5)\n",
    "\n",
    "print(\"Pure random: \", ls)\n",
    "\n",
    "max_sequence = 4\n",
    "\n",
    "def sample_with_order(population, max_sequence_length):\n",
    "    \"\"\"\n",
    "        Samples [1,population] elements from a sequence mantaining the order\n",
    "    \"\"\"\n",
    "    k = random.randint(1, max_sequence_length)\n",
    "    k_start = random.randint(0, len(population)-k)\n",
    "    return population[k_start: k_start+k]\n",
    "\n",
    "\n",
    "print(sample_with_order(population, max_sequence))\n",
    "\n",
    "   "
   ]
  },
  {
   "cell_type": "code",
   "execution_count": null,
   "metadata": {},
   "outputs": [
    {
     "ename": "RuntimeError",
     "evalue": "shape '[100, 1]' is invalid for input of size 1",
     "output_type": "error",
     "traceback": [
      "\u001b[0;31m---------------------------------------------------------------------------\u001b[0m",
      "\u001b[0;31mRuntimeError\u001b[0m                              Traceback (most recent call last)",
      "Cell \u001b[0;32mIn[5], line 1\u001b[0m\n\u001b[0;32m----> 1\u001b[0m target_return \u001b[39m=\u001b[39m torch\u001b[39m.\u001b[39;49mones(\u001b[39m1\u001b[39;49m, device\u001b[39m=\u001b[39;49mdevice, dtype\u001b[39m=\u001b[39;49mtorch\u001b[39m.\u001b[39;49mfloat32)\u001b[39m.\u001b[39;49mreshape(\u001b[39m100\u001b[39;49m, \u001b[39m1\u001b[39;49m)\n",
      "\u001b[0;31mRuntimeError\u001b[0m: shape '[100, 1]' is invalid for input of size 1"
     ]
    }
   ],
   "source": [
    "target_return = torch.ones(1, device=device, dtype=torch.float32).reshape(100, 1)"
   ]
  },
  {
   "cell_type": "code",
   "execution_count": null,
   "metadata": {},
   "outputs": [],
   "source": []
  }
 ],
 "metadata": {
  "kernelspec": {
   "display_name": "Python 3",
   "language": "python",
   "name": "python3"
  },
  "language_info": {
   "codemirror_mode": {
    "name": "ipython",
    "version": 3
   },
   "file_extension": ".py",
   "mimetype": "text/x-python",
   "name": "python",
   "nbconvert_exporter": "python",
   "pygments_lexer": "ipython3",
   "version": "3.10.6"
  },
  "orig_nbformat": 4
 },
 "nbformat": 4,
 "nbformat_minor": 2
}
