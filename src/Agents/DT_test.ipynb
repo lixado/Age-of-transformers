{
 "cells": [
  {
   "cell_type": "code",
   "execution_count": 2,
   "metadata": {},
   "outputs": [
    {
     "name": "stderr",
     "output_type": "stream",
     "text": [
      "/home/pedron18/.local/lib/python3.10/site-packages/tqdm/auto.py:22: TqdmWarning: IProgress not found. Please update jupyter and ipywidgets. See https://ipywidgets.readthedocs.io/en/stable/user_install.html\n",
      "  from .autonotebook import tqdm as notebook_tqdm\n"
     ]
    }
   ],
   "source": [
    "from transformers import DecisionTransformerModel, DecisionTransformerConfig\n",
    "import numpy as np\n",
    "import torch\n",
    "\n",
    "device = \"cuda\"\n",
    "\n",
    "scale = 1000.0  # normalization for rewards/returns\n",
    "TARGET_RETURN = 3600 / scale  # evaluation conditioning targets, 3600 is reasonable from the paper LINK\n",
    "state_dim = (3, 32, 32)\n",
    "state_dim_flatten = state_dim[0]*state_dim[1]*state_dim[2]\n",
    "act_dim = 6"
   ]
  },
  {
   "cell_type": "code",
   "execution_count": 9,
   "metadata": {},
   "outputs": [
    {
     "name": "stdout",
     "output_type": "stream",
     "text": [
      "target_return torch.Size([1, 1, 1])\n",
      "states torch.Size([1, 1, 3072])\n",
      "actions torch.Size([1, 1, 6])\n",
      "timesteps torch.Size([1, 1])\n",
      "attention_mask torch.Size([1, 1])\n",
      "state_preds torch.Size([1, 1, 3072])\n",
      "action_preds torch.Size([1, 1, 6])\n",
      "return_preds torch.Size([1, 1, 1])\n",
      "state_preds tensor([[-0.2208, -0.6347, -0.0118,  ...,  0.2574, -0.2670, -0.0992]],\n",
      "       device='cuda:0')\n",
      "action_preds tensor([[-0.1034,  0.0587, -0.2295, -0.0095,  0.5759, -0.1647]],\n",
      "       device='cuda:0')\n",
      "return_preds tensor([[-0.2693]], device='cuda:0')\n"
     ]
    }
   ],
   "source": [
    "n_positions=1024*4\n",
    "max_ep_len=1024 # no impact?\n",
    "\n",
    "t = 1# max int(n_positions/3) # number of elements in sequence\n",
    "b = 1 # batch \n",
    "\n",
    "#rewards = torch.rand((b,2, t), device=device, dtype=torch.float32) # doesnt matter idk why exists\n",
    "\n",
    "target_return = torch.rand((b, t, 1), device=device, dtype=torch.float32) # expected future return\n",
    "states = torch.rand((b, t, state_dim_flatten), device=device, dtype=torch.float32)#.reshape(1, 1, state_dim_flatten) #\n",
    "actions = torch.rand((b, t, act_dim), device=device, dtype=torch.float32)\n",
    "timesteps = torch.randint_like(torch.zeros((b, t)), device=device, low = 100, high = max_ep_len, dtype=torch.long) # integer what timestep we on\n",
    "\n",
    "\n",
    "\n",
    "#target_return, states, actions, timesteps = [1],  torch.rand((t, state_dim_flatten), device=device), [], [1]\n",
    "#target_return, states, actions, timesteps = torch.tensor(target_return, device=device), states, torch.tensor(actions, device=device), torch.tensor(timesteps, device=device)\n",
    "\n",
    "attention_mask = torch.ones((b, t), device=device, dtype=torch.long) # this is the default\n",
    "\n",
    "print(\"target_return\",target_return.shape)\n",
    "print(\"states\",states.shape)\n",
    "print(\"actions\",actions.shape)\n",
    "#print(\"rewards\",rewards.shape)\n",
    "print(\"timesteps\", timesteps.shape)\n",
    "print(\"attention_mask\", attention_mask.shape)\n",
    "\n",
    "config = DecisionTransformerConfig(state_dim_flatten, act_dim, max_ep_len=max_ep_len,n_positions=n_positions)\n",
    "\n",
    "\n",
    "model = DecisionTransformerModel(config).to(device)\n",
    "model.eval()\n",
    "with torch.no_grad():\n",
    "        state_preds, action_preds, return_preds = model(states=states,\n",
    "                actions=actions,\n",
    "                rewards=None,\n",
    "                returns_to_go=target_return,\n",
    "                timesteps=timesteps,\n",
    "                attention_mask=attention_mask,\n",
    "                return_dict=False)\n",
    "\n",
    "        #print(\"argmax\", torch.argmax(action_preds).item())\n",
    "        print(\"state_preds\",state_preds.shape)\n",
    "        print(\"action_preds\",action_preds.shape)\n",
    "        print(\"return_preds\", return_preds.shape)\n",
    "\n",
    "\n",
    "        print(\"state_preds\", state_preds[0])\n",
    "        print(\"action_preds\", action_preds[0])\n",
    "        print(\"return_preds\", return_preds[0])"
   ]
  },
  {
   "cell_type": "code",
   "execution_count": 4,
   "metadata": {},
   "outputs": [
    {
     "name": "stdout",
     "output_type": "stream",
     "text": [
      "Pure random:  [3, 1, 4, 2, 0]\n",
      "[0, 1]\n"
     ]
    }
   ],
   "source": [
    "import random\n",
    "\n",
    "population = [0, 1, 2, 3, 4]\n",
    "ls = random.sample(population,5)\n",
    "\n",
    "print(\"Pure random: \", ls)\n",
    "\n",
    "max_sequence = 4\n",
    "\n",
    "def sample_with_order(population, max_sequence_length):\n",
    "    \"\"\"\n",
    "        Samples [1,population] elements from a sequence mantaining the order\n",
    "    \"\"\"\n",
    "    k = random.randint(1, max_sequence_length)\n",
    "    k_start = random.randint(0, len(population)-k)\n",
    "    return population[k_start: k_start+k]\n",
    "\n",
    "\n",
    "print(sample_with_order(population, max_sequence))\n",
    "\n",
    "   "
   ]
  },
  {
   "cell_type": "code",
   "execution_count": 5,
   "metadata": {},
   "outputs": [
    {
     "ename": "RuntimeError",
     "evalue": "shape '[100, 1]' is invalid for input of size 1",
     "output_type": "error",
     "traceback": [
      "\u001b[0;31m---------------------------------------------------------------------------\u001b[0m",
      "\u001b[0;31mRuntimeError\u001b[0m                              Traceback (most recent call last)",
      "Cell \u001b[0;32mIn[5], line 1\u001b[0m\n\u001b[0;32m----> 1\u001b[0m target_return \u001b[39m=\u001b[39m torch\u001b[39m.\u001b[39;49mones(\u001b[39m1\u001b[39;49m, device\u001b[39m=\u001b[39;49mdevice, dtype\u001b[39m=\u001b[39;49mtorch\u001b[39m.\u001b[39;49mfloat32)\u001b[39m.\u001b[39;49mreshape(\u001b[39m100\u001b[39;49m, \u001b[39m1\u001b[39;49m)\n",
      "\u001b[0;31mRuntimeError\u001b[0m: shape '[100, 1]' is invalid for input of size 1"
     ]
    }
   ],
   "source": [
    "target_return = torch.ones(1, device=device, dtype=torch.float32).reshape(100, 1)"
   ]
  },
  {
   "cell_type": "code",
   "execution_count": null,
   "metadata": {},
   "outputs": [],
   "source": []
  }
 ],
 "metadata": {
  "kernelspec": {
   "display_name": "Python 3",
   "language": "python",
   "name": "python3"
  },
  "language_info": {
   "codemirror_mode": {
    "name": "ipython",
    "version": 3
   },
   "file_extension": ".py",
   "mimetype": "text/x-python",
   "name": "python",
   "nbconvert_exporter": "python",
   "pygments_lexer": "ipython3",
   "version": "3.10.6"
  },
  "orig_nbformat": 4
 },
 "nbformat": 4,
 "nbformat_minor": 2
}
