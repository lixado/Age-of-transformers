{
 "cells": [
  {
   "cell_type": "code",
   "execution_count": 98,
   "metadata": {},
   "outputs": [],
   "source": [
    "from transformers import DecisionTransformerModel, DecisionTransformerConfig\n",
    "import numpy as np\n",
    "import torch\n",
    "\n",
    "device = \"cuda\"\n",
    "\n",
    "scale = 1000.0  # normalization for rewards/returns\n",
    "TARGET_RETURN = 3600 / scale  # evaluation conditioning targets, 3600 is reasonable from the paper LINK\n",
    "state_dim = (3, 32, 32)\n",
    "state_dim_flatten = state_dim[0]*state_dim[1]*state_dim[2]\n",
    "act_dim = 6"
   ]
  },
  {
   "cell_type": "code",
   "execution_count": 100,
   "metadata": {},
   "outputs": [
    {
     "name": "stdout",
     "output_type": "stream",
     "text": [
      "target_return torch.Size([1, 1365, 1])\n",
      "states torch.Size([1, 1365, 3072])\n",
      "actions torch.Size([1, 1365, 6])\n",
      "rewards torch.Size([1, 2, 1365])\n",
      "timesteps torch.Size([1, 1365])\n",
      "attention_mask torch.Size([1, 1365])\n",
      "state_preds torch.Size([1, 1365, 3072])\n",
      "action_preds torch.Size([1, 1365, 6])\n",
      "return_preds torch.Size([1, 1365, 1])\n",
      "state_preds tensor([[ 0.0590,  0.1822, -0.0669,  ...,  0.1140,  0.4109, -0.2156],\n",
      "        [ 0.1704,  0.1097, -0.2572,  ...,  0.1839, -0.1295, -0.1316],\n",
      "        [ 0.1030,  0.1238,  0.0213,  ...,  0.0535,  0.2225,  0.0342],\n",
      "        ...,\n",
      "        [ 0.0052,  0.3805, -0.0504,  ..., -0.0646,  0.4899, -0.3576],\n",
      "        [ 0.2908,  0.2081, -0.1710,  ...,  0.1995, -0.0806,  0.0363],\n",
      "        [ 0.0445,  0.2653, -0.0387,  ...,  0.0254,  0.4619, -0.2510]],\n",
      "       device='cuda:0')\n",
      "action_preds tensor([[-0.0676,  0.1410,  0.0733, -0.1185,  0.0715,  0.2120],\n",
      "        [ 0.0154, -0.0313,  0.1795, -0.2725, -0.1355,  0.4287],\n",
      "        [ 0.1194,  0.0815,  0.2098, -0.4338, -0.1554,  0.3901],\n",
      "        ...,\n",
      "        [ 0.0897,  0.1413,  0.2412, -0.2616, -0.0301,  0.3700],\n",
      "        [ 0.0901,  0.0765,  0.1768, -0.2767,  0.0438,  0.3081],\n",
      "        [ 0.2093,  0.2825,  0.3208, -0.3730, -0.1254,  0.2736]],\n",
      "       device='cuda:0')\n",
      "return_preds tensor([[0.3738],\n",
      "        [0.2394],\n",
      "        [0.3647],\n",
      "        ...,\n",
      "        [0.2780],\n",
      "        [0.2408],\n",
      "        [0.2791]], device='cuda:0')\n"
     ]
    }
   ],
   "source": [
    "n_positions=1024*4\n",
    "max_ep_len=1024 # no impact?\n",
    "\n",
    "t = int(n_positions/3) # number of elements in sequence\n",
    "b = 1 # batch \n",
    "\n",
    "target_return = torch.rand((b, t, 1), device=device, dtype=torch.float32) # expected future return\n",
    "states = torch.rand((b, t, state_dim_flatten), device=device, dtype=torch.float32)#.reshape(1, 1, state_dim_flatten) #\n",
    "actions = torch.rand((b, t, act_dim), device=device, dtype=torch.float32)\n",
    "\n",
    "rewards = torch.rand((b,2, t), device=device, dtype=torch.float32) # doesnt matter idk why exists\n",
    "timesteps = torch.randint_like(torch.zeros((b, t)), device=device, low = 100, high = max_ep_len, dtype=torch.long) # integer what timestep we on\n",
    "\n",
    "\n",
    "attention_mask = torch.ones((b, t), device=device, dtype=torch.long) # this is the default\n",
    "\n",
    "print(\"target_return\",target_return.shape)\n",
    "print(\"states\",states.shape)\n",
    "print(\"actions\",actions.shape)\n",
    "print(\"rewards\",rewards.shape)\n",
    "print(\"timesteps\", timesteps.shape)\n",
    "print(\"attention_mask\", attention_mask.shape)\n",
    "\n",
    "config = DecisionTransformerConfig(state_dim_flatten, act_dim, max_ep_len=max_ep_len,n_positions=n_positions)\n",
    "\n",
    "\n",
    "model = DecisionTransformerModel(config).to(device)\n",
    "model.eval()\n",
    "with torch.no_grad():\n",
    "        state_preds, action_preds, return_preds = model(states=states,\n",
    "                actions=actions,\n",
    "                rewards=rewards,\n",
    "                returns_to_go=target_return,\n",
    "                timesteps=timesteps,\n",
    "                attention_mask=attention_mask,\n",
    "                return_dict=False)\n",
    "\n",
    "        #print(\"argmax\", torch.argmax(action_preds).item())\n",
    "        print(\"state_preds\",state_preds.shape)\n",
    "        print(\"action_preds\",action_preds.shape)\n",
    "        print(\"return_preds\", return_preds.shape)\n",
    "\n",
    "\n",
    "        print(\"state_preds\", state_preds[0])\n",
    "        print(\"action_preds\", action_preds[0])\n",
    "        print(\"return_preds\", return_preds[0])"
   ]
  },
  {
   "cell_type": "code",
   "execution_count": null,
   "metadata": {},
   "outputs": [
    {
     "name": "stdout",
     "output_type": "stream",
     "text": [
      "Pure random:  [0, 1, 4, 2, 3]\n",
      "[1, 2, 3, 4]\n"
     ]
    }
   ],
   "source": [
    "import random\n",
    "\n",
    "population = [0, 1, 2, 3, 4]\n",
    "ls = random.sample(population,5)\n",
    "\n",
    "print(\"Pure random: \", ls)\n",
    "\n",
    "max_sequence = 4\n",
    "\n",
    "def sample_with_order(population, max_sequence_length):\n",
    "    \"\"\"\n",
    "        Samples [1,population] elements from a sequence mantaining the order\n",
    "    \"\"\"\n",
    "    k = random.randint(1, max_sequence_length)\n",
    "    k_start = random.randint(0, len(population)-k)\n",
    "    return population[k_start: k_start+k]\n",
    "\n",
    "\n",
    "print(sample_with_order(population, max_sequence))\n",
    "\n",
    "   "
   ]
  },
  {
   "cell_type": "code",
   "execution_count": null,
   "metadata": {},
   "outputs": [
    {
     "ename": "RuntimeError",
     "evalue": "shape '[100, 1]' is invalid for input of size 1",
     "output_type": "error",
     "traceback": [
      "\u001b[0;31m---------------------------------------------------------------------------\u001b[0m",
      "\u001b[0;31mRuntimeError\u001b[0m                              Traceback (most recent call last)",
      "Cell \u001b[0;32mIn[5], line 1\u001b[0m\n\u001b[0;32m----> 1\u001b[0m target_return \u001b[39m=\u001b[39m torch\u001b[39m.\u001b[39;49mones(\u001b[39m1\u001b[39;49m, device\u001b[39m=\u001b[39;49mdevice, dtype\u001b[39m=\u001b[39;49mtorch\u001b[39m.\u001b[39;49mfloat32)\u001b[39m.\u001b[39;49mreshape(\u001b[39m100\u001b[39;49m, \u001b[39m1\u001b[39;49m)\n",
      "\u001b[0;31mRuntimeError\u001b[0m: shape '[100, 1]' is invalid for input of size 1"
     ]
    }
   ],
   "source": [
    "target_return = torch.ones(1, device=device, dtype=torch.float32).reshape(100, 1)"
   ]
  },
  {
   "cell_type": "code",
   "execution_count": null,
   "metadata": {},
   "outputs": [],
   "source": []
  }
 ],
 "metadata": {
  "kernelspec": {
   "display_name": "Python 3",
   "language": "python",
   "name": "python3"
  },
  "language_info": {
   "codemirror_mode": {
    "name": "ipython",
    "version": 3
   },
   "file_extension": ".py",
   "mimetype": "text/x-python",
   "name": "python",
   "nbconvert_exporter": "python",
   "pygments_lexer": "ipython3",
   "version": "3.10.6"
  },
  "orig_nbformat": 4
 },
 "nbformat": 4,
 "nbformat_minor": 2
}
